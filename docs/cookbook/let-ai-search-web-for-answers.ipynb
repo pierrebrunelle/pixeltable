{
  "cells": [
    {
      "cell_type": "markdown",
      "metadata": {},
      "source": [
        "# Let AI Search Web for Answers\n",
        "\n",
        "Give your AI the ability to search the web and use tools.\n"
      ]
    },
    {
      "cell_type": "code",
      "execution_count": null,
      "metadata": {
        "vscode": {
          "languageId": "plaintext"
        }
      },
      "outputs": [],
      "source": [
        "%pip install -qU pixeltable boto3 duckduckgo-search\n"
      ]
    },
    {
      "cell_type": "code",
      "execution_count": null,
      "metadata": {
        "vscode": {
          "languageId": "plaintext"
        }
      },
      "outputs": [],
      "source": [
        "# Set up AWS credentials for Bedrock\n",
        "import os, getpass\n",
        "if 'AWS_ACCESS_KEY_ID' not in os.environ:\n",
        "    os.environ['AWS_ACCESS_KEY_ID'] = getpass.getpass('AWS Access Key:')\n",
        "    os.environ['AWS_SECRET_ACCESS_KEY'] = getpass.getpass('AWS Secret Key:')\n",
        "    os.environ['AWS_DEFAULT_REGION'] = 'us-east-1'\n"
      ]
    },
    {
      "cell_type": "code",
      "execution_count": null,
      "metadata": {
        "vscode": {
          "languageId": "plaintext"
        }
      },
      "outputs": [],
      "source": [
        "import pixeltable as pxt\n",
        "from pixeltable.functions.bedrock import converse, invoke_tools\n",
        "from duckduckgo_search import DDGS\n"
      ]
    },
    {
      "cell_type": "code",
      "execution_count": null,
      "metadata": {
        "vscode": {
          "languageId": "plaintext"
        }
      },
      "outputs": [],
      "source": [
        "# Step 1: Define web search tool\n",
        "@pxt.udf\n",
        "def search_web(query: str, max_results: int = 3) -> str:\n",
        "    \"\"\"Search the web and return results.\"\"\"\n",
        "    with DDGS() as ddgs:\n",
        "        results = list(ddgs.text(query, max_results=max_results))\n",
        "    return '\\n'.join(f\"{r['title']}: {r['body']}\" for r in results)\n"
      ]
    },
    {
      "cell_type": "code",
      "execution_count": null,
      "metadata": {},
      "outputs": [],
      "source": [
        "# Step 2: Register tools and create agent table\n",
        "tools = pxt.tools(search_web)\n",
        "pxt.create_dir('agent', if_exists='ignore')\n",
        "agent = pxt.create_table('agent.qa', {'question': pxt.String}, if_exists='ignore')\n"
      ]
    },
    {
      "cell_type": "code",
      "execution_count": null,
      "metadata": {},
      "outputs": [],
      "source": [
        "# Step 3: Add AI tool calling\n",
        "agent.add_computed_column(if_exists='ignore',\n",
        "    initial_response=converse(\n",
        "        model_id='amazon.nova-pro-v1:0',\n",
        "        messages=[{'role': 'user', 'content': [{'text': agent.question}]}],\n",
        "        tool_config=tools\n",
        "    ))\n",
        "agent.add_computed_column(tool_output=invoke_tools(tools, agent.initial_response), if_exists='ignore')\n"
      ]
    },
    {
      "cell_type": "code",
      "execution_count": null,
      "metadata": {},
      "outputs": [],
      "source": [
        "# Step 4: Generate final answer\n",
        "agent.add_computed_column(if_exists='ignore',\n",
        "    final_response=converse(\n",
        "        model_id='amazon.nova-pro-v1:0',\n",
        "        messages=[{'role': 'user', 'content': [{'text': \n",
        "            f\"Question: {agent.question}\\nTool Results: {agent.tool_output}\"}]}]\n",
        "    ))\n",
        "agent.add_computed_column(answer=agent.final_response.output.message.content[0].text, if_exists='ignore')\n"
      ]
    },
    {
      "cell_type": "code",
      "execution_count": null,
      "metadata": {
        "vscode": {
          "languageId": "plaintext"
        }
      },
      "outputs": [],
      "source": [
        "# Ask questions - AI will search web automatically\n",
        "agent.insert([{'question': \"What's the latest news about SpaceX?\"}])\n"
      ]
    },
    {
      "cell_type": "code",
      "execution_count": null,
      "metadata": {},
      "outputs": [],
      "source": [
        "# View results\n",
        "agent.select(agent.question, agent.answer).head()\n"
      ]
    },
    {
      "cell_type": "markdown",
      "metadata": {},
      "source": [
        "**What's Happening:**\n",
        "- Define Python function as tool with `@pxt.udf`\n",
        "- Register tools with `pxt.tools()`\n",
        "- AI decides when to call tools\n",
        "- `invoke_tools()` executes the selected tool\n",
        "- Second LLM call synthesizes final answer\n",
        "\n",
        "**Variation:** Add more tools (weather, stock data, calculator):\n",
        "```python\n",
        "tools = pxt.tools(search_web, get_weather, fetch_stock_price)\n",
        "```\n",
        "\n",
        "**Next:** `answer-questions-from-docs.ipynb` • `build-chatbot-with-memory.ipynb`\n"
      ]
    }
  ],
  "metadata": {
    "language_info": {
      "name": "python"
    }
  },
  "nbformat": 4,
  "nbformat_minor": 2
}

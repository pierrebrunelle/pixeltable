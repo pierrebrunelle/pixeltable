{
  "cells": [
    {
      "cell_type": "markdown",
      "metadata": {},
      "source": [
        "# Classify Product Images\n",
        "\n",
        "Auto-tag e-commerce photos for better organization.\n"
      ]
    },
    {
      "cell_type": "code",
      "execution_count": null,
      "metadata": {
        "vscode": {
          "languageId": "plaintext"
        }
      },
      "outputs": [],
      "source": [
        "%pip install -qU pixeltable torch transformers\n"
      ]
    },
    {
      "cell_type": "code",
      "execution_count": null,
      "metadata": {
        "vscode": {
          "languageId": "plaintext"
        }
      },
      "outputs": [],
      "source": [
        "import pixeltable as pxt\n",
        "from pixeltable.functions.huggingface import vit_for_image_classification\n"
      ]
    },
    {
      "cell_type": "code",
      "execution_count": null,
      "metadata": {
        "vscode": {
          "languageId": "plaintext"
        }
      },
      "outputs": [],
      "source": [
        "# Step 1: Create products table\n",
        "pxt.create_dir('ecommerce', if_exists='ignore')\n",
        "products = pxt.create_table('ecommerce.products', \n",
        "    {'sku': pxt.String, 'image': pxt.Image}, if_exists='ignore')\n",
        "\n",
        "base = 'https://raw.githubusercontent.com/pixeltable/pixeltable/release/docs/resources/images/'\n",
        "products.insert([\n",
        "    {'sku': 'P001', 'image': base + '000000000025.jpg'},\n",
        "    {'sku': 'P002', 'image': base + '000000000030.jpg'}\n",
        "])\n"
      ]
    },
    {
      "cell_type": "code",
      "execution_count": null,
      "metadata": {},
      "outputs": [],
      "source": [
        "# Step 2: Auto-classify with ViT\n",
        "products.add_computed_column(if_exists='ignore',\n",
        "    classification=vit_for_image_classification(\n",
        "        products.image,\n",
        "        model_id='google/vit-base-patch16-224'\n",
        "    ))\n",
        "products.add_computed_column(category=products.classification.label_text[0], if_exists='ignore')\n"
      ]
    },
    {
      "cell_type": "code",
      "execution_count": null,
      "metadata": {
        "vscode": {
          "languageId": "plaintext"
        }
      },
      "outputs": [],
      "source": [
        "# Step 3: View auto-tagged products\n",
        "products.select(products.sku, products.image, products.category).collect()\n"
      ]
    },
    {
      "cell_type": "markdown",
      "metadata": {},
      "source": [
        "**What's Happening:**\n",
        "- Images inserted into table\n",
        "- ViT model classifies each image\n",
        "- Top category extracted automatically\n",
        "- Can filter/group by category\n",
        "\n",
        "**Variation:** Use custom-trained model:\n",
        "```python\n",
        "classification=vit_for_image_classification(\n",
        "    products.image,\n",
        "    model_id='your-username/custom-product-classifier'\n",
        ")\n",
        "```\n",
        "\n",
        "**Next:** `build-reverse-image-search.ipynb` • `generate-product-mockups.ipynb`\n"
      ]
    }
  ],
  "metadata": {
    "language_info": {
      "name": "python"
    }
  },
  "nbformat": 4,
  "nbformat_minor": 2
}

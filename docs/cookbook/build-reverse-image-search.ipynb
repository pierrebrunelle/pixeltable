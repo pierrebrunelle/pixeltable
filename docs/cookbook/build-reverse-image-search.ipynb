{
  "cells": [
    {
      "cell_type": "markdown",
      "metadata": {},
      "source": [
        "# Build Reverse Image Search\n",
        "\n",
        "Find visually similar images in your library.\n"
      ]
    },
    {
      "cell_type": "code",
      "execution_count": null,
      "metadata": {
        "vscode": {
          "languageId": "plaintext"
        }
      },
      "outputs": [],
      "source": [
        "%pip install -qU pixeltable sentence-transformers\n"
      ]
    },
    {
      "cell_type": "code",
      "execution_count": null,
      "metadata": {
        "vscode": {
          "languageId": "plaintext"
        }
      },
      "outputs": [],
      "source": [
        "import pixeltable as pxt\n",
        "from pixeltable.functions.huggingface import clip\n"
      ]
    },
    {
      "cell_type": "code",
      "execution_count": null,
      "metadata": {
        "vscode": {
          "languageId": "plaintext"
        }
      },
      "outputs": [],
      "source": [
        "# Step 1: Create image library\n",
        "pxt.create_dir('photos', if_exists='ignore')\n",
        "photos = pxt.create_table('photos.library', {'image': pxt.Image, 'name': pxt.String}, if_exists='ignore')\n",
        "\n",
        "base = 'https://raw.githubusercontent.com/pixeltable/pixeltable/release/docs/resources/images/'\n",
        "photos.insert([\n",
        "    {'image': base + '000000000025.jpg', 'name': 'giraffe'},\n",
        "    {'image': base + '000000000030.jpg', 'name': 'person'},\n",
        "    {'image': base + '000000000034.jpg', 'name': 'bus'}\n",
        "])\n"
      ]
    },
    {
      "cell_type": "code",
      "execution_count": null,
      "metadata": {},
      "outputs": [],
      "source": [
        "# Step 2: Create CLIP embedding index\n",
        "photos.add_embedding_index('image', if_exists='ignore',\n",
        "    embedding=clip.using(model_id='openai/clip-vit-base-patch32'))\n"
      ]
    },
    {
      "cell_type": "code",
      "execution_count": null,
      "metadata": {
        "vscode": {
          "languageId": "plaintext"
        }
      },
      "outputs": [],
      "source": [
        "# Step 3: Search by text description\n",
        "sim = photos.image.similarity(\"an animal\")\n",
        "photos.order_by(sim, asc=False).select(photos.image, photos.name, sim=sim).head()\n"
      ]
    },
    {
      "cell_type": "markdown",
      "metadata": {},
      "source": [
        "**What's Happening:**\n",
        "- Images stored with metadata\n",
        "- CLIP embeddings computed automatically\n",
        "- `.similarity()` works with both text and images\n",
        "- Results ranked by visual similarity\n",
        "\n",
        "**Variation:** Search by reference image:\n",
        "```python\n",
        "query_image = 'path/to/reference.jpg'\n",
        "sim = photos.image.similarity(query_image)\n",
        "results = photos.order_by(sim, asc=False).limit(10).collect()\n",
        "```\n",
        "\n",
        "**Next:** `classify-product-images.ipynb` • `remove-duplicates-from-photo-library.ipynb`\n"
      ]
    }
  ],
  "metadata": {
    "language_info": {
      "name": "python"
    }
  },
  "nbformat": 4,
  "nbformat_minor": 2
}

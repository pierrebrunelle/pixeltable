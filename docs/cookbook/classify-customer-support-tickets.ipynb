{
  "cells": [
    {
      "cell_type": "markdown",
      "metadata": {},
      "source": [
        "# Classify Customer Support Tickets\n",
        "\n",
        "Auto-categorize incoming requests by urgency and department.\n"
      ]
    },
    {
      "cell_type": "code",
      "execution_count": null,
      "metadata": {
        "vscode": {
          "languageId": "plaintext"
        }
      },
      "outputs": [],
      "source": [
        "%pip install -qU pixeltable anthropic\n"
      ]
    },
    {
      "cell_type": "code",
      "execution_count": null,
      "metadata": {
        "vscode": {
          "languageId": "plaintext"
        }
      },
      "outputs": [],
      "source": [
        "import os, getpass\n",
        "if 'ANTHROPIC_API_KEY' not in os.environ:\n",
        "    os.environ['ANTHROPIC_API_KEY'] = getpass.getpass('Anthropic API Key:')\n"
      ]
    },
    {
      "cell_type": "code",
      "execution_count": null,
      "metadata": {
        "vscode": {
          "languageId": "plaintext"
        }
      },
      "outputs": [],
      "source": [
        "import pixeltable as pxt\n",
        "from pixeltable.functions import anthropic\n"
      ]
    },
    {
      "cell_type": "code",
      "execution_count": null,
      "metadata": {
        "vscode": {
          "languageId": "plaintext"
        }
      },
      "outputs": [],
      "source": [
        "# Step 1: Create tickets table\n",
        "pxt.create_dir('support', if_exists='ignore')\n",
        "tickets = pxt.create_table('support.tickets', \n",
        "    {'ticket_id': pxt.String, 'subject': pxt.String, 'body': pxt.String}, if_exists='ignore')\n"
      ]
    },
    {
      "cell_type": "code",
      "execution_count": null,
      "metadata": {},
      "outputs": [],
      "source": [
        "# Step 2: Auto-classify with LLM\n",
        "tickets.add_computed_column(if_exists='ignore',\n",
        "    classification=anthropic.messages(\n",
        "        model='claude-3-haiku-20240307',\n",
        "        max_tokens=100,\n",
        "        messages=[{'role': 'user', 'content': \n",
        "            f\"Classify this ticket:\\nSubject: {tickets.subject}\\nBody: {tickets.body}\\n\\n\"\n",
        "            f\"Return JSON: {{\\\"category\\\": \\\"billing|technical|sales|other\\\", \"\n",
        "            f\"\\\"urgency\\\": \\\"low|medium|high\\\", \\\"sentiment\\\": \\\"positive|neutral|negative\\\"}}\"}]\n",
        "    ).content[0].text\n",
        ")\n"
      ]
    },
    {
      "cell_type": "code",
      "execution_count": null,
      "metadata": {
        "vscode": {
          "languageId": "plaintext"
        }
      },
      "outputs": [],
      "source": [
        "# Step 3: Insert tickets (auto-classified)\n",
        "tickets.insert([\n",
        "    {'ticket_id': 'T001', 'subject': 'Cannot login', 'body': 'Getting error 500'},\n",
        "    {'ticket_id': 'T002', 'subject': 'Billing question', 'body': 'Need refund'}\n",
        "])\n"
      ]
    },
    {
      "cell_type": "code",
      "execution_count": null,
      "metadata": {},
      "outputs": [],
      "source": [
        "# View results\n",
        "tickets.select(tickets.ticket_id, tickets.subject, tickets.classification).collect()\n"
      ]
    },
    {
      "cell_type": "markdown",
      "metadata": {},
      "source": [
        "**What's Happening:**\n",
        "- Each ticket insert triggers LLM classification\n",
        "- Structured JSON output for routing\n",
        "- Can filter/sort by category or urgency\n",
        "- Sentiment analysis included\n",
        "\n",
        "**Variation:** Route to specific queues:\n",
        "```python\n",
        "high_urgency = tickets.where(\n",
        "    tickets.classification.astype(pxt.Json)['urgency'] == 'high'\n",
        ")\n",
        "```\n",
        "\n",
        "**Next:** `monitor-brand-sentiment-from-social-media.ipynb` • `answer-questions-from-docs.ipynb`\n"
      ]
    }
  ],
  "metadata": {
    "language_info": {
      "name": "python"
    }
  },
  "nbformat": 4,
  "nbformat_minor": 2
}

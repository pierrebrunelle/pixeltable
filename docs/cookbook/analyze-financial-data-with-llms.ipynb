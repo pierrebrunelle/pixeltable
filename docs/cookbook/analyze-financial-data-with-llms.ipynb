{
  "cells": [
    {
      "cell_type": "markdown",
      "metadata": {},
      "source": [
        "# Analyze Financial Data with LLMs\n",
        "\n",
        "Get AI-powered insights from financial reports and data.\n"
      ]
    },
    {
      "cell_type": "code",
      "execution_count": 7,
      "metadata": {},
      "outputs": [
        {
          "name": "stdout",
          "output_type": "stream",
          "text": [
            "Note: you may need to restart the kernel to use updated packages.\n"
          ]
        }
      ],
      "source": [
        "%pip install -qU pixeltable openai yfinance\n"
      ]
    },
    {
      "cell_type": "code",
      "execution_count": null,
      "metadata": {},
      "outputs": [],
      "source": [
        "import os, getpass\n",
        "if 'OPENAI_API_KEY' not in os.environ:\n",
        "    os.environ['OPENAI_API_KEY'] = getpass.getpass('OpenAI API Key:')\n"
      ]
    },
    {
      "cell_type": "code",
      "execution_count": null,
      "metadata": {},
      "outputs": [],
      "source": [
        "import pixeltable as pxt\n",
        "from pixeltable.functions import openai\n",
        "import yfinance as yf"
      ]
    },
    {
      "cell_type": "code",
      "execution_count": 9,
      "metadata": {},
      "outputs": [],
      "source": [
        "# Step 1: Define UDF to fetch stock data\n",
        "@pxt.udf\n",
        "def get_stock_data(ticker: str) -> str:\n",
        "    \"\"\"Fetch financial summary for a stock ticker.\"\"\"\n",
        "    stock = yf.Ticker(ticker)\n",
        "    info = stock.info\n",
        "    return f\"\"\"Company: {info.get('shortName')}\n",
        "Current Price: ${info.get('currentPrice', 'N/A')}\n",
        "Market Cap: ${info.get('marketCap', 0) / 1e9:.2f}B\n",
        "P/E Ratio: {info.get('trailingPE', 'N/A')}\n",
        "52-Week High: ${info.get('fiftyTwoWeekHigh', 'N/A')}\n",
        "52-Week Low: ${info.get('fiftyTwoWeekLow', 'N/A')}\"\"\"\n"
      ]
    },
    {
      "cell_type": "code",
      "execution_count": 10,
      "metadata": {},
      "outputs": [],
      "source": [
        "# Step 2: Create analysis table\n",
        "pxt.create_dir('finance', if_exists='ignore')\n",
        "stocks = pxt.create_table('finance.analysis', {'ticker': pxt.String, 'query': pxt.String}, if_exists='ignore')\n"
      ]
    },
    {
      "cell_type": "code",
      "execution_count": 11,
      "metadata": {},
      "outputs": [
        {
          "data": {
            "text/plain": [
              "No rows affected."
            ]
          },
          "execution_count": 11,
          "metadata": {},
          "output_type": "execute_result"
        }
      ],
      "source": [
        "# Step 3: Auto-fetch data and analyze with LLM\n",
        "stocks.add_computed_column(data=get_stock_data(stocks.ticker), if_exists='ignore')\n",
        "stocks.add_computed_column(if_exists='ignore',\n",
        "    analysis=openai.chat_completions(\n",
        "        model='gpt-4o-mini',\n",
        "        messages=[{'role': 'user', 'content': \n",
        "            f\"Data:\\n{stocks.data}\\n\\nQuestion: {stocks.query}\"}]\n",
        "    ).choices[0].message.content\n",
        ")\n"
      ]
    },
    {
      "cell_type": "code",
      "execution_count": null,
      "metadata": {},
      "outputs": [
        {
          "ename": "ExprEvalError",
          "evalue": "Expression evaluation failed with an error of type `pixeltable.exceptions.Error`:\nchat_completions(model='gpt-4o-mini', messages=[{'role': 'user', 'content': 'Data:\\ndata\\n\\nQuestion: query'}])",
          "output_type": "error",
          "traceback": [
            "\u001b[0;31m---------------------------------------------------------------------------\u001b[0m",
            "\u001b[0;31mError\u001b[0m                                     Traceback (most recent call last)",
            "File \u001b[0;32m/opt/miniconda3/envs/pxt/lib/python3.10/site-packages/pixeltable/exec/expr_eval/schedulers.py:209\u001b[0m, in \u001b[0;36mRateLimitsScheduler._exec\u001b[0;34m(self, request, exec_ctx, num_retries, is_task)\u001b[0m\n\u001b[1;32m    208\u001b[0m request_kwargs \u001b[38;5;241m=\u001b[39m {\u001b[38;5;241m*\u001b[39m\u001b[38;5;241m*\u001b[39mrequest\u001b[38;5;241m.\u001b[39mkwargs, \u001b[38;5;124m'\u001b[39m\u001b[38;5;124m_runtime_ctx\u001b[39m\u001b[38;5;124m'\u001b[39m: env\u001b[38;5;241m.\u001b[39mRuntimeCtx(is_retry\u001b[38;5;241m=\u001b[39mnum_retries \u001b[38;5;241m>\u001b[39m \u001b[38;5;241m0\u001b[39m)}\n\u001b[0;32m--> 209\u001b[0m result \u001b[38;5;241m=\u001b[39m \u001b[38;5;28;01mawait\u001b[39;00m pxt_fn\u001b[38;5;241m.\u001b[39maexec(\u001b[38;5;241m*\u001b[39mrequest\u001b[38;5;241m.\u001b[39margs, \u001b[38;5;241m*\u001b[39m\u001b[38;5;241m*\u001b[39mrequest_kwargs)\n\u001b[1;32m    210\u001b[0m request\u001b[38;5;241m.\u001b[39mrow[request\u001b[38;5;241m.\u001b[39mfn_call\u001b[38;5;241m.\u001b[39mslot_idx] \u001b[38;5;241m=\u001b[39m result\n",
            "File \u001b[0;32m/opt/miniconda3/envs/pxt/lib/python3.10/site-packages/pixeltable/func/callable_function.py:84\u001b[0m, in \u001b[0;36mCallableFunction.aexec\u001b[0;34m(self, *args, **kwargs)\u001b[0m\n\u001b[1;32m     83\u001b[0m \u001b[38;5;28;01melse\u001b[39;00m:\n\u001b[0;32m---> 84\u001b[0m     \u001b[38;5;28;01mreturn\u001b[39;00m \u001b[38;5;28;01mawait\u001b[39;00m \u001b[38;5;28mself\u001b[39m\u001b[38;5;241m.\u001b[39mpy_fn(\u001b[38;5;241m*\u001b[39margs, \u001b[38;5;241m*\u001b[39m\u001b[38;5;241m*\u001b[39mkwargs)\n",
            "File \u001b[0;32m/opt/miniconda3/envs/pxt/lib/python3.10/site-packages/pixeltable/functions/openai.py:427\u001b[0m, in \u001b[0;36mchat_completions\u001b[0;34m(messages, model, model_kwargs, tools, tool_choice, _runtime_ctx)\u001b[0m\n\u001b[1;32m    423\u001b[0m rate_limits_info \u001b[38;5;241m=\u001b[39m env\u001b[38;5;241m.\u001b[39mEnv\u001b[38;5;241m.\u001b[39mget()\u001b[38;5;241m.\u001b[39mget_resource_pool_info(\n\u001b[1;32m    424\u001b[0m     resource_pool, \u001b[38;5;28;01mlambda\u001b[39;00m: OpenAIRateLimitsInfo(_chat_completions_get_request_resources)\n\u001b[1;32m    425\u001b[0m )\n\u001b[0;32m--> 427\u001b[0m result \u001b[38;5;241m=\u001b[39m \u001b[38;5;28;01mawait\u001b[39;00m \u001b[43m_openai_client\u001b[49m\u001b[43m(\u001b[49m\u001b[43m)\u001b[49m\u001b[38;5;241m.\u001b[39mchat\u001b[38;5;241m.\u001b[39mcompletions\u001b[38;5;241m.\u001b[39mwith_raw_response\u001b[38;5;241m.\u001b[39mcreate(\n\u001b[1;32m    428\u001b[0m     messages\u001b[38;5;241m=\u001b[39mmessages, model\u001b[38;5;241m=\u001b[39mmodel, \u001b[38;5;241m*\u001b[39m\u001b[38;5;241m*\u001b[39mmodel_kwargs\n\u001b[1;32m    429\u001b[0m )\n\u001b[1;32m    431\u001b[0m requests_info, tokens_info \u001b[38;5;241m=\u001b[39m _get_header_info(result\u001b[38;5;241m.\u001b[39mheaders)\n",
            "File \u001b[0;32m/opt/miniconda3/envs/pxt/lib/python3.10/site-packages/pixeltable/functions/openai.py:50\u001b[0m, in \u001b[0;36m_openai_client\u001b[0;34m()\u001b[0m\n\u001b[1;32m     49\u001b[0m \u001b[38;5;28;01mdef\u001b[39;00m \u001b[38;5;21m_openai_client\u001b[39m() \u001b[38;5;241m-\u001b[39m\u001b[38;5;241m>\u001b[39m \u001b[38;5;124m'\u001b[39m\u001b[38;5;124mopenai.AsyncOpenAI\u001b[39m\u001b[38;5;124m'\u001b[39m:\n\u001b[0;32m---> 50\u001b[0m     \u001b[38;5;28;01mreturn\u001b[39;00m \u001b[43menv\u001b[49m\u001b[38;5;241;43m.\u001b[39;49m\u001b[43mEnv\u001b[49m\u001b[38;5;241;43m.\u001b[39;49m\u001b[43mget\u001b[49m\u001b[43m(\u001b[49m\u001b[43m)\u001b[49m\u001b[38;5;241;43m.\u001b[39;49m\u001b[43mget_client\u001b[49m\u001b[43m(\u001b[49m\u001b[38;5;124;43m'\u001b[39;49m\u001b[38;5;124;43mopenai\u001b[39;49m\u001b[38;5;124;43m'\u001b[39;49m\u001b[43m)\u001b[49m\n",
            "File \u001b[0;32m/opt/miniconda3/envs/pxt/lib/python3.10/site-packages/pixeltable/env.py:654\u001b[0m, in \u001b[0;36mEnv.get_client\u001b[0;34m(self, name)\u001b[0m\n\u001b[1;32m    653\u001b[0m     \u001b[38;5;28;01melif\u001b[39;00m param\u001b[38;5;241m.\u001b[39mdefault \u001b[38;5;129;01mis\u001b[39;00m inspect\u001b[38;5;241m.\u001b[39mParameter\u001b[38;5;241m.\u001b[39mempty:\n\u001b[0;32m--> 654\u001b[0m         \u001b[38;5;28;01mraise\u001b[39;00m excs\u001b[38;5;241m.\u001b[39mError(\n\u001b[1;32m    655\u001b[0m             \u001b[38;5;124mf\u001b[39m\u001b[38;5;124m'\u001b[39m\u001b[38;5;124m`\u001b[39m\u001b[38;5;132;01m{\u001b[39;00mname\u001b[38;5;132;01m}\u001b[39;00m\u001b[38;5;124m` client not initialized: parameter `\u001b[39m\u001b[38;5;132;01m{\u001b[39;00mpname\u001b[38;5;132;01m}\u001b[39;00m\u001b[38;5;124m` is not configured.\u001b[39m\u001b[38;5;130;01m\\n\u001b[39;00m\u001b[38;5;124m'\u001b[39m\n\u001b[1;32m    656\u001b[0m             \u001b[38;5;124mf\u001b[39m\u001b[38;5;124m'\u001b[39m\u001b[38;5;124mTo fix this, specify the `\u001b[39m\u001b[38;5;132;01m{\u001b[39;00mname\u001b[38;5;241m.\u001b[39mupper()\u001b[38;5;132;01m}\u001b[39;00m\u001b[38;5;124m_\u001b[39m\u001b[38;5;132;01m{\u001b[39;00mpname\u001b[38;5;241m.\u001b[39mupper()\u001b[38;5;132;01m}\u001b[39;00m\u001b[38;5;124m` environment variable, \u001b[39m\u001b[38;5;124m'\u001b[39m\n\u001b[1;32m    657\u001b[0m             \u001b[38;5;124mf\u001b[39m\u001b[38;5;124m'\u001b[39m\u001b[38;5;124mor put `\u001b[39m\u001b[38;5;132;01m{\u001b[39;00mpname\u001b[38;5;241m.\u001b[39mlower()\u001b[38;5;132;01m}\u001b[39;00m\u001b[38;5;124m` in the `\u001b[39m\u001b[38;5;132;01m{\u001b[39;00mname\u001b[38;5;241m.\u001b[39mlower()\u001b[38;5;132;01m}\u001b[39;00m\u001b[38;5;124m` section of $PIXELTABLE_HOME/config.toml.\u001b[39m\u001b[38;5;124m'\u001b[39m\n\u001b[1;32m    658\u001b[0m         )\n\u001b[1;32m    660\u001b[0m \u001b[38;5;66;03m# Construct the requested client\u001b[39;00m\n",
            "\u001b[0;31mError\u001b[0m: `openai` client not initialized: parameter `api_key` is not configured.\nTo fix this, specify the `OPENAI_API_KEY` environment variable, or put `api_key` in the `openai` section of $PIXELTABLE_HOME/config.toml.",
            "\nThe above exception was the direct cause of the following exception:\n",
            "\u001b[0;31mExprEvalError\u001b[0m                             Traceback (most recent call last)",
            "Cell \u001b[0;32mIn[12], line 2\u001b[0m\n\u001b[1;32m      1\u001b[0m \u001b[38;5;66;03m# Step 4: Analyze a stock\u001b[39;00m\n\u001b[0;32m----> 2\u001b[0m \u001b[43mstocks\u001b[49m\u001b[38;5;241;43m.\u001b[39;49m\u001b[43minsert\u001b[49m\u001b[43m(\u001b[49m\u001b[43m[\u001b[49m\u001b[43m{\u001b[49m\u001b[38;5;124;43m'\u001b[39;49m\u001b[38;5;124;43mticker\u001b[39;49m\u001b[38;5;124;43m'\u001b[39;49m\u001b[43m:\u001b[49m\u001b[43m \u001b[49m\u001b[38;5;124;43m'\u001b[39;49m\u001b[38;5;124;43mNVDA\u001b[39;49m\u001b[38;5;124;43m'\u001b[39;49m\u001b[43m,\u001b[49m\u001b[43m \u001b[49m\u001b[38;5;124;43m'\u001b[39;49m\u001b[38;5;124;43mquery\u001b[39;49m\u001b[38;5;124;43m'\u001b[39;49m\u001b[43m:\u001b[49m\u001b[43m \u001b[49m\u001b[38;5;124;43m'\u001b[39;49m\u001b[38;5;124;43mIs this stock overvalued?\u001b[39;49m\u001b[38;5;124;43m'\u001b[39;49m\u001b[43m}\u001b[49m\u001b[43m]\u001b[49m\u001b[43m)\u001b[49m\n",
            "File \u001b[0;32m/opt/miniconda3/envs/pxt/lib/python3.10/site-packages/pixeltable/catalog/insertable_table.py:177\u001b[0m, in \u001b[0;36mInsertableTable.insert\u001b[0;34m(self, source, source_format, schema_overrides, on_error, print_stats, **kwargs)\u001b[0m\n\u001b[1;32m    174\u001b[0m data_source\u001b[38;5;241m.\u001b[39madd_table_info(table)\n\u001b[1;32m    175\u001b[0m data_source\u001b[38;5;241m.\u001b[39mprepare_for_insert_into_table()\n\u001b[0;32m--> 177\u001b[0m \u001b[38;5;28;01mreturn\u001b[39;00m \u001b[43mtable\u001b[49m\u001b[38;5;241;43m.\u001b[39;49m\u001b[43minsert_table_data_source\u001b[49m\u001b[43m(\u001b[49m\n\u001b[1;32m    178\u001b[0m \u001b[43m    \u001b[49m\u001b[43mdata_source\u001b[49m\u001b[38;5;241;43m=\u001b[39;49m\u001b[43mdata_source\u001b[49m\u001b[43m,\u001b[49m\u001b[43m \u001b[49m\u001b[43mfail_on_exception\u001b[49m\u001b[38;5;241;43m=\u001b[39;49m\u001b[43mfail_on_exception\u001b[49m\u001b[43m,\u001b[49m\u001b[43m \u001b[49m\u001b[43mprint_stats\u001b[49m\u001b[38;5;241;43m=\u001b[39;49m\u001b[43mprint_stats\u001b[49m\n\u001b[1;32m    179\u001b[0m \u001b[43m\u001b[49m\u001b[43m)\u001b[49m\n",
            "File \u001b[0;32m/opt/miniconda3/envs/pxt/lib/python3.10/site-packages/pixeltable/catalog/insertable_table.py:197\u001b[0m, in \u001b[0;36mInsertableTable.insert_table_data_source\u001b[0;34m(self, data_source, fail_on_exception, print_stats)\u001b[0m\n\u001b[1;32m    195\u001b[0m         status \u001b[38;5;241m=\u001b[39m pxt\u001b[38;5;241m.\u001b[39mUpdateStatus()\n\u001b[1;32m    196\u001b[0m         \u001b[38;5;28;01mfor\u001b[39;00m row_batch \u001b[38;5;129;01min\u001b[39;00m data_source\u001b[38;5;241m.\u001b[39mvalid_row_batch():\n\u001b[0;32m--> 197\u001b[0m             status \u001b[38;5;241m+\u001b[39m\u001b[38;5;241m=\u001b[39m \u001b[38;5;28;43mself\u001b[39;49m\u001b[38;5;241;43m.\u001b[39;49m\u001b[43m_tbl_version\u001b[49m\u001b[38;5;241;43m.\u001b[39;49m\u001b[43mget\u001b[49m\u001b[43m(\u001b[49m\u001b[43m)\u001b[49m\u001b[38;5;241;43m.\u001b[39;49m\u001b[43minsert\u001b[49m\u001b[43m(\u001b[49m\n\u001b[1;32m    198\u001b[0m \u001b[43m                \u001b[49m\u001b[43mrows\u001b[49m\u001b[38;5;241;43m=\u001b[39;49m\u001b[43mrow_batch\u001b[49m\u001b[43m,\u001b[49m\u001b[43m \u001b[49m\u001b[43mdf\u001b[49m\u001b[38;5;241;43m=\u001b[39;49m\u001b[38;5;28;43;01mNone\u001b[39;49;00m\u001b[43m,\u001b[49m\u001b[43m \u001b[49m\u001b[43mprint_stats\u001b[49m\u001b[38;5;241;43m=\u001b[39;49m\u001b[43mprint_stats\u001b[49m\u001b[43m,\u001b[49m\u001b[43m \u001b[49m\u001b[43mfail_on_exception\u001b[49m\u001b[38;5;241;43m=\u001b[39;49m\u001b[43mfail_on_exception\u001b[49m\n\u001b[1;32m    199\u001b[0m \u001b[43m            \u001b[49m\u001b[43m)\u001b[49m\n\u001b[1;32m    201\u001b[0m Env\u001b[38;5;241m.\u001b[39mget()\u001b[38;5;241m.\u001b[39mconsole_logger\u001b[38;5;241m.\u001b[39minfo(status\u001b[38;5;241m.\u001b[39minsert_msg)\n\u001b[1;32m    203\u001b[0m FileCache\u001b[38;5;241m.\u001b[39mget()\u001b[38;5;241m.\u001b[39memit_eviction_warnings()\n",
            "File \u001b[0;32m/opt/miniconda3/envs/pxt/lib/python3.10/site-packages/pixeltable/catalog/table_version.py:882\u001b[0m, in \u001b[0;36mTableVersion.insert\u001b[0;34m(self, rows, df, print_stats, fail_on_exception)\u001b[0m\n\u001b[1;32m    879\u001b[0m         \u001b[38;5;28mself\u001b[39m\u001b[38;5;241m.\u001b[39mnext_row_id \u001b[38;5;241m+\u001b[39m\u001b[38;5;241m=\u001b[39m \u001b[38;5;241m1\u001b[39m\n\u001b[1;32m    880\u001b[0m         \u001b[38;5;28;01myield\u001b[39;00m rowid\n\u001b[0;32m--> 882\u001b[0m result \u001b[38;5;241m=\u001b[39m \u001b[38;5;28;43mself\u001b[39;49m\u001b[38;5;241;43m.\u001b[39;49m\u001b[43m_insert\u001b[49m\u001b[43m(\u001b[49m\n\u001b[1;32m    883\u001b[0m \u001b[43m    \u001b[49m\u001b[43mplan\u001b[49m\u001b[43m,\u001b[49m\u001b[43m \u001b[49m\u001b[43mtime\u001b[49m\u001b[38;5;241;43m.\u001b[39;49m\u001b[43mtime\u001b[49m\u001b[43m(\u001b[49m\u001b[43m)\u001b[49m\u001b[43m,\u001b[49m\u001b[43m \u001b[49m\u001b[43mprint_stats\u001b[49m\u001b[38;5;241;43m=\u001b[39;49m\u001b[43mprint_stats\u001b[49m\u001b[43m,\u001b[49m\u001b[43m \u001b[49m\u001b[43mrowids\u001b[49m\u001b[38;5;241;43m=\u001b[39;49m\u001b[43mrowids\u001b[49m\u001b[43m(\u001b[49m\u001b[43m)\u001b[49m\u001b[43m,\u001b[49m\u001b[43m \u001b[49m\u001b[43mabort_on_exc\u001b[49m\u001b[38;5;241;43m=\u001b[39;49m\u001b[43mfail_on_exception\u001b[49m\n\u001b[1;32m    884\u001b[0m \u001b[43m\u001b[49m\u001b[43m)\u001b[49m\n\u001b[1;32m    885\u001b[0m \u001b[38;5;28;01mreturn\u001b[39;00m result\n",
            "File \u001b[0;32m/opt/miniconda3/envs/pxt/lib/python3.10/site-packages/pixeltable/catalog/table_version.py:899\u001b[0m, in \u001b[0;36mTableVersion._insert\u001b[0;34m(self, exec_plan, timestamp, rowids, print_stats, abort_on_exc)\u001b[0m\n\u001b[1;32m    897\u001b[0m \u001b[38;5;66;03m# we're creating a new version\u001b[39;00m\n\u001b[1;32m    898\u001b[0m \u001b[38;5;28mself\u001b[39m\u001b[38;5;241m.\u001b[39mbump_version(timestamp, bump_schema_version\u001b[38;5;241m=\u001b[39m\u001b[38;5;28;01mFalse\u001b[39;00m)\n\u001b[0;32m--> 899\u001b[0m cols_with_excs, row_counts \u001b[38;5;241m=\u001b[39m \u001b[38;5;28;43mself\u001b[39;49m\u001b[38;5;241;43m.\u001b[39;49m\u001b[43mstore_tbl\u001b[49m\u001b[38;5;241;43m.\u001b[39;49m\u001b[43minsert_rows\u001b[49m\u001b[43m(\u001b[49m\n\u001b[1;32m    900\u001b[0m \u001b[43m    \u001b[49m\u001b[43mexec_plan\u001b[49m\u001b[43m,\u001b[49m\u001b[43m \u001b[49m\u001b[43mv_min\u001b[49m\u001b[38;5;241;43m=\u001b[39;49m\u001b[38;5;28;43mself\u001b[39;49m\u001b[38;5;241;43m.\u001b[39;49m\u001b[43mversion\u001b[49m\u001b[43m,\u001b[49m\u001b[43m \u001b[49m\u001b[43mrowids\u001b[49m\u001b[38;5;241;43m=\u001b[39;49m\u001b[43mrowids\u001b[49m\u001b[43m,\u001b[49m\u001b[43m \u001b[49m\u001b[43mabort_on_exc\u001b[49m\u001b[38;5;241;43m=\u001b[39;49m\u001b[43mabort_on_exc\u001b[49m\n\u001b[1;32m    901\u001b[0m \u001b[43m\u001b[49m\u001b[43m)\u001b[49m\n\u001b[1;32m    902\u001b[0m result \u001b[38;5;241m=\u001b[39m UpdateStatus(\n\u001b[1;32m    903\u001b[0m     cols_with_excs\u001b[38;5;241m=\u001b[39m[\u001b[38;5;124mf\u001b[39m\u001b[38;5;124m'\u001b[39m\u001b[38;5;132;01m{\u001b[39;00m\u001b[38;5;28mself\u001b[39m\u001b[38;5;241m.\u001b[39mname\u001b[38;5;132;01m}\u001b[39;00m\u001b[38;5;124m.\u001b[39m\u001b[38;5;132;01m{\u001b[39;00m\u001b[38;5;28mself\u001b[39m\u001b[38;5;241m.\u001b[39mcols_by_id[cid]\u001b[38;5;241m.\u001b[39mname\u001b[38;5;132;01m}\u001b[39;00m\u001b[38;5;124m'\u001b[39m \u001b[38;5;28;01mfor\u001b[39;00m cid \u001b[38;5;129;01min\u001b[39;00m cols_with_excs],\n\u001b[1;32m    904\u001b[0m     row_count_stats\u001b[38;5;241m=\u001b[39mrow_counts,\n\u001b[1;32m    905\u001b[0m )\n\u001b[1;32m    907\u001b[0m \u001b[38;5;66;03m# update views\u001b[39;00m\n",
            "File \u001b[0;32m/opt/miniconda3/envs/pxt/lib/python3.10/site-packages/pixeltable/store.py:307\u001b[0m, in \u001b[0;36mStoreBase.insert_rows\u001b[0;34m(self, exec_plan, v_min, show_progress, rowids, abort_on_exc)\u001b[0m\n\u001b[1;32m    304\u001b[0m table_rows: \u001b[38;5;28mlist\u001b[39m[\u001b[38;5;28mtuple\u001b[39m[Any]] \u001b[38;5;241m=\u001b[39m []\n\u001b[1;32m    305\u001b[0m exec_plan\u001b[38;5;241m.\u001b[39mopen()\n\u001b[0;32m--> 307\u001b[0m \u001b[38;5;28;01mfor\u001b[39;00m row_batch \u001b[38;5;129;01min\u001b[39;00m exec_plan:\n\u001b[1;32m    308\u001b[0m     num_rows \u001b[38;5;241m+\u001b[39m\u001b[38;5;241m=\u001b[39m \u001b[38;5;28mlen\u001b[39m(row_batch)\n\u001b[1;32m    309\u001b[0m     batch_table_rows: \u001b[38;5;28mlist\u001b[39m[\u001b[38;5;28mtuple\u001b[39m[Any]] \u001b[38;5;241m=\u001b[39m []\n",
            "File \u001b[0;32m/opt/miniconda3/envs/pxt/lib/python3.10/site-packages/pixeltable/exec/exec_node.py:58\u001b[0m, in \u001b[0;36mExecNode.__iter__\u001b[0;34m(self)\u001b[0m\n\u001b[1;32m     56\u001b[0m \u001b[38;5;28;01mtry\u001b[39;00m:\n\u001b[1;32m     57\u001b[0m     \u001b[38;5;28;01mwhile\u001b[39;00m \u001b[38;5;28;01mTrue\u001b[39;00m:\n\u001b[0;32m---> 58\u001b[0m         batch: DataRowBatch \u001b[38;5;241m=\u001b[39m \u001b[43mloop\u001b[49m\u001b[38;5;241;43m.\u001b[39;49m\u001b[43mrun_until_complete\u001b[49m\u001b[43m(\u001b[49m\u001b[38;5;28;43maiter\u001b[39;49m\u001b[38;5;241;43m.\u001b[39;49m\u001b[38;5;21;43m__anext__\u001b[39;49m\u001b[43m(\u001b[49m\u001b[43m)\u001b[49m\u001b[43m)\u001b[49m\n\u001b[1;32m     59\u001b[0m         \u001b[38;5;28;01myield\u001b[39;00m batch\n\u001b[1;32m     60\u001b[0m \u001b[38;5;28;01mexcept\u001b[39;00m \u001b[38;5;167;01mStopAsyncIteration\u001b[39;00m:\n",
            "File \u001b[0;32m/opt/miniconda3/envs/pxt/lib/python3.10/site-packages/nest_asyncio.py:99\u001b[0m, in \u001b[0;36m_patch_loop.<locals>.run_until_complete\u001b[0;34m(self, future)\u001b[0m\n\u001b[1;32m     96\u001b[0m \u001b[38;5;28;01mif\u001b[39;00m \u001b[38;5;129;01mnot\u001b[39;00m f\u001b[38;5;241m.\u001b[39mdone():\n\u001b[1;32m     97\u001b[0m     \u001b[38;5;28;01mraise\u001b[39;00m \u001b[38;5;167;01mRuntimeError\u001b[39;00m(\n\u001b[1;32m     98\u001b[0m         \u001b[38;5;124m'\u001b[39m\u001b[38;5;124mEvent loop stopped before Future completed.\u001b[39m\u001b[38;5;124m'\u001b[39m)\n\u001b[0;32m---> 99\u001b[0m \u001b[38;5;28;01mreturn\u001b[39;00m \u001b[43mf\u001b[49m\u001b[38;5;241;43m.\u001b[39;49m\u001b[43mresult\u001b[49m\u001b[43m(\u001b[49m\u001b[43m)\u001b[49m\n",
            "File \u001b[0;32m/opt/miniconda3/envs/pxt/lib/python3.10/asyncio/futures.py:201\u001b[0m, in \u001b[0;36mFuture.result\u001b[0;34m(self)\u001b[0m\n\u001b[1;32m    199\u001b[0m \u001b[38;5;28mself\u001b[39m\u001b[38;5;241m.\u001b[39m__log_traceback \u001b[38;5;241m=\u001b[39m \u001b[38;5;28;01mFalse\u001b[39;00m\n\u001b[1;32m    200\u001b[0m \u001b[38;5;28;01mif\u001b[39;00m \u001b[38;5;28mself\u001b[39m\u001b[38;5;241m.\u001b[39m_exception \u001b[38;5;129;01mis\u001b[39;00m \u001b[38;5;129;01mnot\u001b[39;00m \u001b[38;5;28;01mNone\u001b[39;00m:\n\u001b[0;32m--> 201\u001b[0m     \u001b[38;5;28;01mraise\u001b[39;00m \u001b[38;5;28mself\u001b[39m\u001b[38;5;241m.\u001b[39m_exception\u001b[38;5;241m.\u001b[39mwith_traceback(\u001b[38;5;28mself\u001b[39m\u001b[38;5;241m.\u001b[39m_exception_tb)\n\u001b[1;32m    202\u001b[0m \u001b[38;5;28;01mreturn\u001b[39;00m \u001b[38;5;28mself\u001b[39m\u001b[38;5;241m.\u001b[39m_result\n",
            "File \u001b[0;32m/opt/miniconda3/envs/pxt/lib/python3.10/asyncio/tasks.py:232\u001b[0m, in \u001b[0;36mTask.__step\u001b[0;34m(***failed resolving arguments***)\u001b[0m\n\u001b[1;32m    228\u001b[0m \u001b[38;5;28;01mtry\u001b[39;00m:\n\u001b[1;32m    229\u001b[0m     \u001b[38;5;28;01mif\u001b[39;00m exc \u001b[38;5;129;01mis\u001b[39;00m \u001b[38;5;28;01mNone\u001b[39;00m:\n\u001b[1;32m    230\u001b[0m         \u001b[38;5;66;03m# We use the `send` method directly, because coroutines\u001b[39;00m\n\u001b[1;32m    231\u001b[0m         \u001b[38;5;66;03m# don't have `__iter__` and `__next__` methods.\u001b[39;00m\n\u001b[0;32m--> 232\u001b[0m         result \u001b[38;5;241m=\u001b[39m \u001b[43mcoro\u001b[49m\u001b[38;5;241;43m.\u001b[39;49m\u001b[43msend\u001b[49m\u001b[43m(\u001b[49m\u001b[38;5;28;43;01mNone\u001b[39;49;00m\u001b[43m)\u001b[49m\n\u001b[1;32m    233\u001b[0m     \u001b[38;5;28;01melse\u001b[39;00m:\n\u001b[1;32m    234\u001b[0m         result \u001b[38;5;241m=\u001b[39m coro\u001b[38;5;241m.\u001b[39mthrow(exc)\n",
            "File \u001b[0;32m/opt/miniconda3/envs/pxt/lib/python3.10/site-packages/pixeltable/exec/cell_materialization_node.py:72\u001b[0m, in \u001b[0;36mCellMaterializationNode.__aiter__\u001b[0;34m(self)\u001b[0m\n\u001b[1;32m     71\u001b[0m \u001b[38;5;28;01masync\u001b[39;00m \u001b[38;5;28;01mdef\u001b[39;00m \u001b[38;5;21m__aiter__\u001b[39m(\u001b[38;5;28mself\u001b[39m) \u001b[38;5;241m-\u001b[39m\u001b[38;5;241m>\u001b[39m AsyncIterator[DataRowBatch]:\n\u001b[0;32m---> 72\u001b[0m     \u001b[38;5;28;01masync\u001b[39;00m \u001b[38;5;28;01mfor\u001b[39;00m batch \u001b[38;5;129;01min\u001b[39;00m \u001b[38;5;28mself\u001b[39m\u001b[38;5;241m.\u001b[39minput:\n\u001b[1;32m     73\u001b[0m         \u001b[38;5;28;01mfor\u001b[39;00m row \u001b[38;5;129;01min\u001b[39;00m batch:\n\u001b[1;32m     74\u001b[0m             \u001b[38;5;28;01mfor\u001b[39;00m col, slot_idx \u001b[38;5;129;01min\u001b[39;00m \u001b[38;5;28mself\u001b[39m\u001b[38;5;241m.\u001b[39moutput_col_info\u001b[38;5;241m.\u001b[39mitems():\n",
            "File \u001b[0;32m/opt/miniconda3/envs/pxt/lib/python3.10/site-packages/pixeltable/exec/expr_eval/expr_eval_node.py:286\u001b[0m, in \u001b[0;36mExprEvalNode.__aiter__\u001b[0;34m(self)\u001b[0m\n\u001b[1;32m    283\u001b[0m \u001b[38;5;28;01mif\u001b[39;00m \u001b[38;5;28mself\u001b[39m\u001b[38;5;241m.\u001b[39mexc_event\u001b[38;5;241m.\u001b[39mis_set():\n\u001b[1;32m    284\u001b[0m     \u001b[38;5;66;03m# we got an exception that we need to propagate through __iter__()\u001b[39;00m\n\u001b[1;32m    285\u001b[0m     \u001b[38;5;28;01mif\u001b[39;00m \u001b[38;5;28misinstance\u001b[39m(\u001b[38;5;28mself\u001b[39m\u001b[38;5;241m.\u001b[39merror, excs\u001b[38;5;241m.\u001b[39mExprEvalError):\n\u001b[0;32m--> 286\u001b[0m         \u001b[38;5;28;01mraise\u001b[39;00m \u001b[38;5;28mself\u001b[39m\u001b[38;5;241m.\u001b[39merror \u001b[38;5;28;01mfrom\u001b[39;00m \u001b[38;5;21;01mself\u001b[39;00m\u001b[38;5;21;01m.\u001b[39;00m\u001b[38;5;21;01merror\u001b[39;00m\u001b[38;5;21;01m.\u001b[39;00m\u001b[38;5;21;01mexc\u001b[39;00m\n\u001b[1;32m    287\u001b[0m     \u001b[38;5;28;01melse\u001b[39;00m:\n\u001b[1;32m    288\u001b[0m         \u001b[38;5;28;01mraise\u001b[39;00m \u001b[38;5;28mself\u001b[39m\u001b[38;5;241m.\u001b[39merror\n",
            "\u001b[0;31mExprEvalError\u001b[0m: Expression evaluation failed with an error of type `pixeltable.exceptions.Error`:\nchat_completions(model='gpt-4o-mini', messages=[{'role': 'user', 'content': 'Data:\\ndata\\n\\nQuestion: query'}])"
          ]
        }
      ],
      "source": [
        "# Step 4: Analyze a stock\n",
        "stocks.insert([{'ticker': 'NVDA', 'query': 'Is this stock overvalued?'}])"
      ]
    },
    {
      "cell_type": "code",
      "execution_count": null,
      "metadata": {},
      "outputs": [],
      "source": [
        "# View analysis results\n",
        "stocks.select(stocks.ticker, stocks.analysis).head()\n"
      ]
    },
    {
      "cell_type": "markdown",
      "metadata": {},
      "source": [
        "**What's Happening:**\n",
        "- UDF fetches live financial data via yfinance\n",
        "- Data stored as computed column\n",
        "- LLM analyzes data and answers questions\n",
        "- Each insert triggers full pipeline automatically\n",
        "\n",
        "**Variation:** Compare multiple stocks:\n",
        "```python\n",
        "stocks.insert([\n",
        "    {'ticker': 'NVDA', 'query': 'Growth potential?'},\n",
        "    {'ticker': 'AMD', 'query': 'Growth potential?'}\n",
        "])\n",
        "```\n",
        "\n",
        "**Next:** `monitor-brand-sentiment-from-social-media.ipynb` • `compare-product-descriptions-across-models.ipynb`\n"
      ]
    }
  ],
  "metadata": {
    "kernelspec": {
      "display_name": "pixeltable",
      "language": "python",
      "name": "pixeltable"
    },
    "language_info": {
      "codemirror_mode": {
        "name": "ipython",
        "version": 3
      },
      "file_extension": ".py",
      "mimetype": "text/x-python",
      "name": "python",
      "nbconvert_exporter": "python",
      "pygments_lexer": "ipython3",
      "version": "3.10.18"
    }
  },
  "nbformat": 4,
  "nbformat_minor": 2
}

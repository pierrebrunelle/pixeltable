{
  "cells": [
    {
      "cell_type": "markdown",
      "metadata": {},
      "source": [
        "# Answer Questions from Documents\n",
        "\n",
        "Build a working Q&A system on your PDFs in under 3 minutes.\n"
      ]
    },
    {
      "cell_type": "code",
      "execution_count": null,
      "metadata": {},
      "outputs": [
        {
          "name": "stdout",
          "output_type": "stream",
          "text": [
            "Note: you may need to restart the kernel to use updated packages.\n"
          ]
        }
      ],
      "source": [
        "%pip install -qU pixeltable sentence-transformers openai spacy tiktoken"
      ]
    },
    {
      "cell_type": "code",
      "execution_count": null,
      "metadata": {},
      "outputs": [],
      "source": [
        "import os, getpass\n",
        "if 'OPENAI_API_KEY' not in os.environ:\n",
        "    os.environ['OPENAI_API_KEY'] = getpass.getpass('OpenAI API Key:')\n"
      ]
    },
    {
      "cell_type": "code",
      "execution_count": null,
      "metadata": {},
      "outputs": [],
      "source": [
        "import pixeltable as pxt\n",
        "from pixeltable.functions import openai\n",
        "from pixeltable.functions.huggingface import sentence_transformer\n",
        "from pixeltable.iterators import DocumentSplitter"
      ]
    },
    {
      "cell_type": "code",
      "execution_count": null,
      "metadata": {},
      "outputs": [
        {
          "name": "stdout",
          "output_type": "stream",
          "text": [
            "Connected to Pixeltable database at: postgresql+psycopg://postgres:@/pixeltable?host=/Users/anushas-pxt/.pixeltable/pgdata\n",
            "Created directory 'rag'.\n",
            "Created table 'docs'.\n",
            "Inserting rows into `docs`: 1 rows [00:00, 385.65 rows/s]\n",
            "Inserted 1 row with 0 errors.\n"
          ]
        },
        {
          "ename": "Error",
          "evalue": "limit/overlap requires the \"token_limit\" or \"char_limit\" separator",
          "output_type": "error",
          "traceback": [
            "\u001b[0;31m---------------------------------------------------------------------------\u001b[0m",
            "\u001b[0;31mError\u001b[0m                                     Traceback (most recent call last)",
            "Cell \u001b[0;32mIn[3], line 7\u001b[0m\n\u001b[1;32m      4\u001b[0m docs\u001b[38;5;241m.\u001b[39minsert([{\u001b[38;5;124m'\u001b[39m\u001b[38;5;124mdoc\u001b[39m\u001b[38;5;124m'\u001b[39m: \u001b[38;5;124m'\u001b[39m\u001b[38;5;124mhttps://raw.githubusercontent.com/pixeltable/pixeltable/release/docs/resources/rag-demo/Zacks-Nvidia-Report.pdf\u001b[39m\u001b[38;5;124m'\u001b[39m}])\n\u001b[1;32m      6\u001b[0m \u001b[38;5;66;03m# Step 2: Split into chunks with embedding index\u001b[39;00m\n\u001b[0;32m----> 7\u001b[0m chunks \u001b[38;5;241m=\u001b[39m \u001b[43mpxt\u001b[49m\u001b[38;5;241;43m.\u001b[39;49m\u001b[43mcreate_view\u001b[49m\u001b[43m(\u001b[49m\u001b[38;5;124;43m'\u001b[39;49m\u001b[38;5;124;43mrag.chunks\u001b[39;49m\u001b[38;5;124;43m'\u001b[39;49m\u001b[43m,\u001b[49m\u001b[43m \u001b[49m\u001b[43mdocs\u001b[49m\u001b[43m,\u001b[49m\u001b[43m \u001b[49m\u001b[43mif_exists\u001b[49m\u001b[38;5;241;43m=\u001b[39;49m\u001b[38;5;124;43m'\u001b[39;49m\u001b[38;5;124;43mignore\u001b[39;49m\u001b[38;5;124;43m'\u001b[39;49m\u001b[43m,\u001b[49m\n\u001b[1;32m      8\u001b[0m \u001b[43m    \u001b[49m\u001b[43miterator\u001b[49m\u001b[38;5;241;43m=\u001b[39;49m\u001b[43mDocumentSplitter\u001b[49m\u001b[38;5;241;43m.\u001b[39;49m\u001b[43mcreate\u001b[49m\u001b[43m(\u001b[49m\u001b[43mdocument\u001b[49m\u001b[38;5;241;43m=\u001b[39;49m\u001b[43mdocs\u001b[49m\u001b[38;5;241;43m.\u001b[39;49m\u001b[43mdoc\u001b[49m\u001b[43m,\u001b[49m\u001b[43m \u001b[49m\u001b[43mseparators\u001b[49m\u001b[38;5;241;43m=\u001b[39;49m\u001b[38;5;124;43m'\u001b[39;49m\u001b[38;5;124;43msentence\u001b[39;49m\u001b[38;5;124;43m'\u001b[39;49m\u001b[43m,\u001b[49m\u001b[43m \u001b[49m\u001b[43mlimit\u001b[49m\u001b[38;5;241;43m=\u001b[39;49m\u001b[38;5;241;43m300\u001b[39;49m\u001b[43m)\u001b[49m\u001b[43m)\u001b[49m\n\u001b[1;32m      9\u001b[0m chunks\u001b[38;5;241m.\u001b[39madd_embedding_index(\u001b[38;5;124m'\u001b[39m\u001b[38;5;124mtext\u001b[39m\u001b[38;5;124m'\u001b[39m, if_exists\u001b[38;5;241m=\u001b[39m\u001b[38;5;124m'\u001b[39m\u001b[38;5;124mignore\u001b[39m\u001b[38;5;124m'\u001b[39m,\n\u001b[1;32m     10\u001b[0m     string_embed\u001b[38;5;241m=\u001b[39msentence_transformer\u001b[38;5;241m.\u001b[39musing(model_id\u001b[38;5;241m=\u001b[39m\u001b[38;5;124m'\u001b[39m\u001b[38;5;124mintfloat/e5-large-v2\u001b[39m\u001b[38;5;124m'\u001b[39m))\n\u001b[1;32m     12\u001b[0m \u001b[38;5;66;03m# Step 3: Create Q&A table with retrieval and LLM\u001b[39;00m\n",
            "File \u001b[0;32m/opt/miniconda3/envs/pxt/lib/python3.10/site-packages/pixeltable/globals.py:303\u001b[0m, in \u001b[0;36mcreate_view\u001b[0;34m(path, base, additional_columns, is_snapshot, iterator, num_retained_versions, comment, media_validation, if_exists)\u001b[0m\n\u001b[1;32m    297\u001b[0m         \u001b[38;5;28;01mif\u001b[39;00m col_name \u001b[38;5;129;01min\u001b[39;00m [c\u001b[38;5;241m.\u001b[39mname \u001b[38;5;28;01mfor\u001b[39;00m c \u001b[38;5;129;01min\u001b[39;00m tbl_version_path\u001b[38;5;241m.\u001b[39mcolumns()]:\n\u001b[1;32m    298\u001b[0m             \u001b[38;5;28;01mraise\u001b[39;00m excs\u001b[38;5;241m.\u001b[39mError(\n\u001b[1;32m    299\u001b[0m                 \u001b[38;5;124mf\u001b[39m\u001b[38;5;124m'\u001b[39m\u001b[38;5;124mColumn \u001b[39m\u001b[38;5;132;01m{\u001b[39;00mcol_name\u001b[38;5;132;01m!r}\u001b[39;00m\u001b[38;5;124m already exists in the base table \u001b[39m\u001b[38;5;124m'\u001b[39m\n\u001b[1;32m    300\u001b[0m                 \u001b[38;5;124mf\u001b[39m\u001b[38;5;124m'\u001b[39m\u001b[38;5;132;01m{\u001b[39;00mtbl_version_path\u001b[38;5;241m.\u001b[39mget_column(col_name)\u001b[38;5;241m.\u001b[39mtbl\u001b[38;5;241m.\u001b[39mname\u001b[38;5;132;01m}\u001b[39;00m\u001b[38;5;124m.\u001b[39m\u001b[38;5;124m'\u001b[39m\n\u001b[1;32m    301\u001b[0m             )\n\u001b[0;32m--> 303\u001b[0m \u001b[38;5;28;01mreturn\u001b[39;00m \u001b[43mCatalog\u001b[49m\u001b[38;5;241;43m.\u001b[39;49m\u001b[43mget\u001b[49m\u001b[43m(\u001b[49m\u001b[43m)\u001b[49m\u001b[38;5;241;43m.\u001b[39;49m\u001b[43mcreate_view\u001b[49m\u001b[43m(\u001b[49m\n\u001b[1;32m    304\u001b[0m \u001b[43m    \u001b[49m\u001b[43mpath_obj\u001b[49m\u001b[43m,\u001b[49m\n\u001b[1;32m    305\u001b[0m \u001b[43m    \u001b[49m\u001b[43mtbl_version_path\u001b[49m\u001b[43m,\u001b[49m\n\u001b[1;32m    306\u001b[0m \u001b[43m    \u001b[49m\u001b[43mselect_list\u001b[49m\u001b[38;5;241;43m=\u001b[39;49m\u001b[43mselect_list\u001b[49m\u001b[43m,\u001b[49m\n\u001b[1;32m    307\u001b[0m \u001b[43m    \u001b[49m\u001b[43mwhere\u001b[49m\u001b[38;5;241;43m=\u001b[39;49m\u001b[43mwhere\u001b[49m\u001b[43m,\u001b[49m\n\u001b[1;32m    308\u001b[0m \u001b[43m    \u001b[49m\u001b[43msample_clause\u001b[49m\u001b[38;5;241;43m=\u001b[39;49m\u001b[43msample_clause\u001b[49m\u001b[43m,\u001b[49m\n\u001b[1;32m    309\u001b[0m \u001b[43m    \u001b[49m\u001b[43madditional_columns\u001b[49m\u001b[38;5;241;43m=\u001b[39;49m\u001b[43madditional_columns\u001b[49m\u001b[43m,\u001b[49m\n\u001b[1;32m    310\u001b[0m \u001b[43m    \u001b[49m\u001b[43mis_snapshot\u001b[49m\u001b[38;5;241;43m=\u001b[39;49m\u001b[43mis_snapshot\u001b[49m\u001b[43m,\u001b[49m\n\u001b[1;32m    311\u001b[0m \u001b[43m    \u001b[49m\u001b[43miterator\u001b[49m\u001b[38;5;241;43m=\u001b[39;49m\u001b[43miterator\u001b[49m\u001b[43m,\u001b[49m\n\u001b[1;32m    312\u001b[0m \u001b[43m    \u001b[49m\u001b[43mnum_retained_versions\u001b[49m\u001b[38;5;241;43m=\u001b[39;49m\u001b[43mnum_retained_versions\u001b[49m\u001b[43m,\u001b[49m\n\u001b[1;32m    313\u001b[0m \u001b[43m    \u001b[49m\u001b[43mcomment\u001b[49m\u001b[38;5;241;43m=\u001b[39;49m\u001b[43mcomment\u001b[49m\u001b[43m,\u001b[49m\n\u001b[1;32m    314\u001b[0m \u001b[43m    \u001b[49m\u001b[43mmedia_validation\u001b[49m\u001b[38;5;241;43m=\u001b[39;49m\u001b[43mmedia_validation_\u001b[49m\u001b[43m,\u001b[49m\n\u001b[1;32m    315\u001b[0m \u001b[43m    \u001b[49m\u001b[43mif_exists\u001b[49m\u001b[38;5;241;43m=\u001b[39;49m\u001b[43mif_exists_\u001b[49m\u001b[43m,\u001b[49m\n\u001b[1;32m    316\u001b[0m \u001b[43m\u001b[49m\u001b[43m)\u001b[49m\n",
            "File \u001b[0;32m/opt/miniconda3/envs/pxt/lib/python3.10/site-packages/pixeltable/catalog/catalog.py:1061\u001b[0m, in \u001b[0;36mCatalog.create_view\u001b[0;34m(self, path, base, select_list, where, sample_clause, additional_columns, is_snapshot, iterator, num_retained_versions, comment, media_validation, if_exists)\u001b[0m\n\u001b[1;32m   1058\u001b[0m     \u001b[38;5;28mself\u001b[39m\u001b[38;5;241m.\u001b[39mstore_tbl_md(tbl_id, \u001b[38;5;28mdir\u001b[39m\u001b[38;5;241m.\u001b[39m_id, md\u001b[38;5;241m.\u001b[39mtbl_md, md\u001b[38;5;241m.\u001b[39mversion_md, md\u001b[38;5;241m.\u001b[39mschema_version_md, ops)\n\u001b[1;32m   1059\u001b[0m     \u001b[38;5;28;01mreturn\u001b[39;00m tbl_id\n\u001b[0;32m-> 1061\u001b[0m view_id \u001b[38;5;241m=\u001b[39m \u001b[43mcreate_fn\u001b[49m\u001b[43m(\u001b[49m\u001b[43m)\u001b[49m\n\u001b[1;32m   1062\u001b[0m \u001b[38;5;28;01mif\u001b[39;00m \u001b[38;5;129;01mnot\u001b[39;00m is_snapshot \u001b[38;5;129;01mand\u001b[39;00m base\u001b[38;5;241m.\u001b[39mis_mutable():\n\u001b[1;32m   1063\u001b[0m     \u001b[38;5;66;03m# invalidate base's TableVersion instance, so that it gets reloaded with the new mutable view\u001b[39;00m\n\u001b[1;32m   1064\u001b[0m     \u001b[38;5;28mself\u001b[39m\u001b[38;5;241m.\u001b[39m_clear_tv_cache(base\u001b[38;5;241m.\u001b[39mtbl_id, base\u001b[38;5;241m.\u001b[39mtbl_version\u001b[38;5;241m.\u001b[39meffective_version)\n",
            "File \u001b[0;32m/opt/miniconda3/envs/pxt/lib/python3.10/site-packages/pixeltable/catalog/catalog.py:102\u001b[0m, in \u001b[0;36mretry_loop.<locals>.decorator.<locals>.loop\u001b[0;34m(*args, **kwargs)\u001b[0m\n\u001b[1;32m     94\u001b[0m     \u001b[38;5;28;01massert\u001b[39;00m \u001b[38;5;129;01mnot\u001b[39;00m Env\u001b[38;5;241m.\u001b[39mget()\u001b[38;5;241m.\u001b[39min_xact\n\u001b[1;32m     95\u001b[0m     \u001b[38;5;28;01mwith\u001b[39;00m Catalog\u001b[38;5;241m.\u001b[39mget()\u001b[38;5;241m.\u001b[39mbegin_xact(\n\u001b[1;32m     96\u001b[0m         tbl\u001b[38;5;241m=\u001b[39mtbl,\n\u001b[1;32m     97\u001b[0m         for_write\u001b[38;5;241m=\u001b[39mfor_write,\n\u001b[0;32m   (...)\u001b[0m\n\u001b[1;32m    100\u001b[0m         finalize_pending_ops\u001b[38;5;241m=\u001b[39m\u001b[38;5;28;01mTrue\u001b[39;00m,\n\u001b[1;32m    101\u001b[0m     ):\n\u001b[0;32m--> 102\u001b[0m         \u001b[38;5;28;01mreturn\u001b[39;00m \u001b[43mop\u001b[49m\u001b[43m(\u001b[49m\u001b[38;5;241;43m*\u001b[39;49m\u001b[43margs\u001b[49m\u001b[43m,\u001b[49m\u001b[43m \u001b[49m\u001b[38;5;241;43m*\u001b[39;49m\u001b[38;5;241;43m*\u001b[39;49m\u001b[43mkwargs\u001b[49m\u001b[43m)\u001b[49m\n\u001b[1;32m    103\u001b[0m \u001b[38;5;28;01mexcept\u001b[39;00m PendingTableOpsError \u001b[38;5;28;01mas\u001b[39;00m e:\n\u001b[1;32m    104\u001b[0m     Env\u001b[38;5;241m.\u001b[39mget()\u001b[38;5;241m.\u001b[39mconsole_logger\u001b[38;5;241m.\u001b[39mdebug(\u001b[38;5;124mf\u001b[39m\u001b[38;5;124m'\u001b[39m\u001b[38;5;124mretry_loop(): finalizing pending ops for \u001b[39m\u001b[38;5;132;01m{\u001b[39;00me\u001b[38;5;241m.\u001b[39mtbl_id\u001b[38;5;132;01m}\u001b[39;00m\u001b[38;5;124m'\u001b[39m)\n",
            "File \u001b[0;32m/opt/miniconda3/envs/pxt/lib/python3.10/site-packages/pixeltable/catalog/catalog.py:1042\u001b[0m, in \u001b[0;36mCatalog.create_view.<locals>.create_fn\u001b[0;34m()\u001b[0m\n\u001b[1;32m   1040\u001b[0m \u001b[38;5;28;01melse\u001b[39;00m:\n\u001b[1;32m   1041\u001b[0m     iterator_class, iterator_args \u001b[38;5;241m=\u001b[39m iterator\n\u001b[0;32m-> 1042\u001b[0m md, ops \u001b[38;5;241m=\u001b[39m \u001b[43mView\u001b[49m\u001b[38;5;241;43m.\u001b[39;49m\u001b[43m_create\u001b[49m\u001b[43m(\u001b[49m\n\u001b[1;32m   1043\u001b[0m \u001b[43m    \u001b[49m\u001b[38;5;28;43mdir\u001b[39;49m\u001b[38;5;241;43m.\u001b[39;49m\u001b[43m_id\u001b[49m\u001b[43m,\u001b[49m\n\u001b[1;32m   1044\u001b[0m \u001b[43m    \u001b[49m\u001b[43mpath\u001b[49m\u001b[38;5;241;43m.\u001b[39;49m\u001b[43mname\u001b[49m\u001b[43m,\u001b[49m\n\u001b[1;32m   1045\u001b[0m \u001b[43m    \u001b[49m\u001b[43mbase\u001b[49m\u001b[38;5;241;43m=\u001b[39;49m\u001b[43mbase\u001b[49m\u001b[43m,\u001b[49m\n\u001b[1;32m   1046\u001b[0m \u001b[43m    \u001b[49m\u001b[43mselect_list\u001b[49m\u001b[38;5;241;43m=\u001b[39;49m\u001b[43mselect_list\u001b[49m\u001b[43m,\u001b[49m\n\u001b[1;32m   1047\u001b[0m \u001b[43m    \u001b[49m\u001b[43madditional_columns\u001b[49m\u001b[38;5;241;43m=\u001b[39;49m\u001b[43madditional_columns\u001b[49m\u001b[43m,\u001b[49m\n\u001b[1;32m   1048\u001b[0m \u001b[43m    \u001b[49m\u001b[43mpredicate\u001b[49m\u001b[38;5;241;43m=\u001b[39;49m\u001b[43mwhere\u001b[49m\u001b[43m,\u001b[49m\n\u001b[1;32m   1049\u001b[0m \u001b[43m    \u001b[49m\u001b[43msample_clause\u001b[49m\u001b[38;5;241;43m=\u001b[39;49m\u001b[43msample_clause\u001b[49m\u001b[43m,\u001b[49m\n\u001b[1;32m   1050\u001b[0m \u001b[43m    \u001b[49m\u001b[43mis_snapshot\u001b[49m\u001b[38;5;241;43m=\u001b[39;49m\u001b[43mis_snapshot\u001b[49m\u001b[43m,\u001b[49m\n\u001b[1;32m   1051\u001b[0m \u001b[43m    \u001b[49m\u001b[43miterator_cls\u001b[49m\u001b[38;5;241;43m=\u001b[39;49m\u001b[43miterator_class\u001b[49m\u001b[43m,\u001b[49m\n\u001b[1;32m   1052\u001b[0m \u001b[43m    \u001b[49m\u001b[43miterator_args\u001b[49m\u001b[38;5;241;43m=\u001b[39;49m\u001b[43miterator_args\u001b[49m\u001b[43m,\u001b[49m\n\u001b[1;32m   1053\u001b[0m \u001b[43m    \u001b[49m\u001b[43mnum_retained_versions\u001b[49m\u001b[38;5;241;43m=\u001b[39;49m\u001b[43mnum_retained_versions\u001b[49m\u001b[43m,\u001b[49m\n\u001b[1;32m   1054\u001b[0m \u001b[43m    \u001b[49m\u001b[43mcomment\u001b[49m\u001b[38;5;241;43m=\u001b[39;49m\u001b[43mcomment\u001b[49m\u001b[43m,\u001b[49m\n\u001b[1;32m   1055\u001b[0m \u001b[43m    \u001b[49m\u001b[43mmedia_validation\u001b[49m\u001b[38;5;241;43m=\u001b[39;49m\u001b[43mmedia_validation\u001b[49m\u001b[43m,\u001b[49m\n\u001b[1;32m   1056\u001b[0m \u001b[43m\u001b[49m\u001b[43m)\u001b[49m\n\u001b[1;32m   1057\u001b[0m tbl_id \u001b[38;5;241m=\u001b[39m UUID(md\u001b[38;5;241m.\u001b[39mtbl_md\u001b[38;5;241m.\u001b[39mtbl_id)\n\u001b[1;32m   1058\u001b[0m \u001b[38;5;28mself\u001b[39m\u001b[38;5;241m.\u001b[39mstore_tbl_md(tbl_id, \u001b[38;5;28mdir\u001b[39m\u001b[38;5;241m.\u001b[39m_id, md\u001b[38;5;241m.\u001b[39mtbl_md, md\u001b[38;5;241m.\u001b[39mversion_md, md\u001b[38;5;241m.\u001b[39mschema_version_md, ops)\n",
            "File \u001b[0;32m/opt/miniconda3/envs/pxt/lib/python3.10/site-packages/pixeltable/catalog/view.py:164\u001b[0m, in \u001b[0;36mView._create\u001b[0;34m(cls, dir_id, name, base, select_list, additional_columns, predicate, sample_clause, is_snapshot, num_retained_versions, comment, media_validation, iterator_cls, iterator_args)\u001b[0m\n\u001b[1;32m    159\u001b[0m \u001b[38;5;66;03m# prepend pos and output_schema columns to cols:\u001b[39;00m\n\u001b[1;32m    160\u001b[0m \u001b[38;5;66;03m# a component view exposes the pos column of its rowid;\u001b[39;00m\n\u001b[1;32m    161\u001b[0m \u001b[38;5;66;03m# we create that column here, so it gets assigned a column id;\u001b[39;00m\n\u001b[1;32m    162\u001b[0m \u001b[38;5;66;03m# stored=False: it is not stored separately (it's already stored as part of the rowid)\u001b[39;00m\n\u001b[1;32m    163\u001b[0m iterator_cols \u001b[38;5;241m=\u001b[39m [Column(_POS_COLUMN_NAME, ts\u001b[38;5;241m.\u001b[39mIntType(), stored\u001b[38;5;241m=\u001b[39m\u001b[38;5;28;01mFalse\u001b[39;00m)]\n\u001b[0;32m--> 164\u001b[0m output_dict, unstored_cols \u001b[38;5;241m=\u001b[39m \u001b[43miterator_cls\u001b[49m\u001b[38;5;241;43m.\u001b[39;49m\u001b[43moutput_schema\u001b[49m\u001b[43m(\u001b[49m\u001b[38;5;241;43m*\u001b[39;49m\u001b[38;5;241;43m*\u001b[39;49m\u001b[43mliteral_args\u001b[49m\u001b[43m)\u001b[49m\n\u001b[1;32m    165\u001b[0m iterator_cols\u001b[38;5;241m.\u001b[39mextend(\n\u001b[1;32m    166\u001b[0m     [\n\u001b[1;32m    167\u001b[0m         Column(col_name, col_type, stored\u001b[38;5;241m=\u001b[39mcol_name \u001b[38;5;129;01mnot\u001b[39;00m \u001b[38;5;129;01min\u001b[39;00m unstored_cols)\n\u001b[1;32m    168\u001b[0m         \u001b[38;5;28;01mfor\u001b[39;00m col_name, col_type \u001b[38;5;129;01min\u001b[39;00m output_dict\u001b[38;5;241m.\u001b[39mitems()\n\u001b[1;32m    169\u001b[0m     ]\n\u001b[1;32m    170\u001b[0m )\n\u001b[1;32m    172\u001b[0m iterator_col_names \u001b[38;5;241m=\u001b[39m {col\u001b[38;5;241m.\u001b[39mname \u001b[38;5;28;01mfor\u001b[39;00m col \u001b[38;5;129;01min\u001b[39;00m iterator_cols}\n",
            "File \u001b[0;32m/opt/miniconda3/envs/pxt/lib/python3.10/site-packages/pixeltable/iterators/document.py:203\u001b[0m, in \u001b[0;36mDocumentSplitter.output_schema\u001b[0;34m(cls, *args, **kwargs)\u001b[0m\n\u001b[1;32m    201\u001b[0m \u001b[38;5;28;01mif\u001b[39;00m limit \u001b[38;5;129;01mis\u001b[39;00m \u001b[38;5;129;01mnot\u001b[39;00m \u001b[38;5;28;01mNone\u001b[39;00m \u001b[38;5;129;01mor\u001b[39;00m overlap \u001b[38;5;129;01mis\u001b[39;00m \u001b[38;5;129;01mnot\u001b[39;00m \u001b[38;5;28;01mNone\u001b[39;00m:\n\u001b[1;32m    202\u001b[0m     \u001b[38;5;28;01mif\u001b[39;00m Separator\u001b[38;5;241m.\u001b[39mTOKEN_LIMIT \u001b[38;5;129;01mnot\u001b[39;00m \u001b[38;5;129;01min\u001b[39;00m separators \u001b[38;5;129;01mand\u001b[39;00m Separator\u001b[38;5;241m.\u001b[39mCHAR_LIMIT \u001b[38;5;129;01mnot\u001b[39;00m \u001b[38;5;129;01min\u001b[39;00m separators:\n\u001b[0;32m--> 203\u001b[0m         \u001b[38;5;28;01mraise\u001b[39;00m Error(\u001b[38;5;124m'\u001b[39m\u001b[38;5;124mlimit/overlap requires the \u001b[39m\u001b[38;5;124m\"\u001b[39m\u001b[38;5;124mtoken_limit\u001b[39m\u001b[38;5;124m\"\u001b[39m\u001b[38;5;124m or \u001b[39m\u001b[38;5;124m\"\u001b[39m\u001b[38;5;124mchar_limit\u001b[39m\u001b[38;5;124m\"\u001b[39m\u001b[38;5;124m separator\u001b[39m\u001b[38;5;124m'\u001b[39m)\n\u001b[1;32m    204\u001b[0m     \u001b[38;5;28;01mif\u001b[39;00m limit \u001b[38;5;129;01mis\u001b[39;00m \u001b[38;5;129;01mnot\u001b[39;00m \u001b[38;5;28;01mNone\u001b[39;00m \u001b[38;5;129;01mand\u001b[39;00m limit \u001b[38;5;241m<\u001b[39m\u001b[38;5;241m=\u001b[39m \u001b[38;5;241m0\u001b[39m:\n\u001b[1;32m    205\u001b[0m         \u001b[38;5;28;01mraise\u001b[39;00m Error(\u001b[38;5;124m'\u001b[39m\u001b[38;5;124m\"\u001b[39m\u001b[38;5;124mlimit\u001b[39m\u001b[38;5;124m\"\u001b[39m\u001b[38;5;124m must be an integer > 0\u001b[39m\u001b[38;5;124m'\u001b[39m)\n",
            "\u001b[0;31mError\u001b[0m: limit/overlap requires the \"token_limit\" or \"char_limit\" separator"
          ]
        }
      ],
      "source": [
        "# Step 1: Store documents\n",
        "pxt.create_dir('rag', if_exists='ignore')\n",
        "docs = pxt.create_table('rag.docs', {'doc': pxt.Document}, if_exists='ignore')\n",
        "docs.insert([{'doc': 'https://raw.githubusercontent.com/pixeltable/pixeltable/release/docs/resources/rag-demo/Zacks-Nvidia-Report.pdf'}])"
      ]
    },
    {
      "cell_type": "code",
      "execution_count": null,
      "metadata": {},
      "outputs": [],
      "source": [
        "# Step 2: Split into chunks with embedding index\n",
        "chunks = pxt.create_view('rag.chunks', docs, if_exists='ignore',\n",
        "    iterator=DocumentSplitter.create(document=docs.doc, separators='token_limit', limit=300))\n",
        "chunks.add_embedding_index('text', if_exists='ignore',\n",
        "    string_embed=sentence_transformer.using(model_id='intfloat/e5-large-v2'))"
      ]
    },
    {
      "cell_type": "code",
      "execution_count": null,
      "metadata": {},
      "outputs": [],
      "source": [
        "# Step 3: Create retrieval query\n",
        "@pxt.query\n",
        "def get_context(question: str):\n",
        "    sim = chunks.text.similarity(question)\n",
        "    return chunks.order_by(sim, asc=False).select(chunks.text).limit(5)"
      ]
    },
    {
      "cell_type": "code",
      "execution_count": null,
      "metadata": {},
      "outputs": [],
      "source": [
        "# Step 4: Create Q&A table with LLM\n",
        "qa = pxt.create_table('rag.qa', {'question': pxt.String}, if_exists='ignore')\n",
        "qa.add_computed_column(context=get_context(qa.question), if_exists='ignore')\n",
        "\n",
        "@pxt.udf\n",
        "def create_prompt(context: list[dict], question: str) -> str:\n",
        "    passages = '\\n\\n'.join(item['text'] for item in context)\n",
        "    return f'Context:\\n{passages}\\n\\nQuestion: {question}'\n",
        "\n",
        "qa.add_computed_column(prompt=create_prompt(qa.context, qa.question), if_exists='ignore')\n",
        "qa.add_computed_column(if_exists='ignore',\n",
        "    answer=openai.chat_completions(\n",
        "        model='gpt-4o-mini',\n",
        "        messages=[{'role': 'user', 'content': qa.prompt}]\n",
        "    ).choices[0].message.content\n",
        ")"
      ]
    },
    {
      "cell_type": "code",
      "execution_count": null,
      "metadata": {},
      "outputs": [],
      "source": [
        "# Ask questions and get answers\n",
        "qa.insert([{'question': 'What is the expected EPS for Nvidia?'}])"
      ]
    },
    {
      "cell_type": "code",
      "execution_count": null,
      "metadata": {},
      "outputs": [],
      "source": [
        "# View results\n",
        "qa.select(qa.question, qa.answer).head()"
      ]
    },
    {
      "cell_type": "markdown",
      "metadata": {},
      "source": [
        "**What's Happening:**\n",
        "- Documents → chunks (sentence-level splits)\n",
        "- Chunks → embeddings (automatic indexing)\n",
        "- Questions → similar chunks (vector search)\n",
        "- Chunks + question → LLM → answer\n",
        "\n",
        "**Next:** `let-ai-search-web-for-answers.ipynb` • `build-chatbot-with-memory.ipynb`\n"
      ]
    }
  ],
  "metadata": {
    "kernelspec": {
      "display_name": "pixeltable",
      "language": "python",
      "name": "pixeltable"
    },
    "language_info": {
      "codemirror_mode": {
        "name": "ipython",
        "version": 3
      },
      "file_extension": ".py",
      "mimetype": "text/x-python",
      "name": "python",
      "nbconvert_exporter": "python",
      "pygments_lexer": "ipython3",
      "version": "3.10.18"
    }
  },
  "nbformat": 4,
  "nbformat_minor": 2
}
